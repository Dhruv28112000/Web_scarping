{
  "nbformat": 4,
  "nbformat_minor": 0,
  "metadata": {
    "colab": {
      "name": "DS_Web Scrapping.ipynb",
      "provenance": [],
      "collapsed_sections": [],
      "authorship_tag": "ABX9TyO6GV4N0D1e6vHRBGg+m6ro",
      "include_colab_link": true
    },
    "kernelspec": {
      "display_name": "Python 3",
      "name": "python3"
    },
    "language_info": {
      "name": "python"
    }
  },
  "cells": [
    {
      "cell_type": "markdown",
      "metadata": {
        "id": "view-in-github",
        "colab_type": "text"
      },
      "source": [
        "<a href=\"https://colab.research.google.com/github/Dhruv28112000/Web_scarping/blob/main/DS_Web_Scrapping.ipynb\" target=\"_parent\"><img src=\"https://colab.research.google.com/assets/colab-badge.svg\" alt=\"Open In Colab\"/></a>"
      ]
    },
    {
      "cell_type": "code",
      "metadata": {
        "id": "DxinscXjDWrx",
        "colab": {
          "base_uri": "https://localhost:8080/"
        },
        "outputId": "fe0683a7-d00d-4d2b-f193-0a1dd586b978"
      },
      "source": [
        "pip install selenium"
      ],
      "execution_count": null,
      "outputs": [
        {
          "output_type": "stream",
          "text": [
            "Collecting selenium\n",
            "  Downloading selenium-3.141.0-py2.py3-none-any.whl (904 kB)\n",
            "\u001b[?25l\r\u001b[K     |▍                               | 10 kB 24.8 MB/s eta 0:00:01\r\u001b[K     |▊                               | 20 kB 26.7 MB/s eta 0:00:01\r\u001b[K     |█                               | 30 kB 29.2 MB/s eta 0:00:01\r\u001b[K     |█▌                              | 40 kB 32.8 MB/s eta 0:00:01\r\u001b[K     |█▉                              | 51 kB 34.2 MB/s eta 0:00:01\r\u001b[K     |██▏                             | 61 kB 33.1 MB/s eta 0:00:01\r\u001b[K     |██▌                             | 71 kB 32.8 MB/s eta 0:00:01\r\u001b[K     |███                             | 81 kB 31.1 MB/s eta 0:00:01\r\u001b[K     |███▎                            | 92 kB 31.1 MB/s eta 0:00:01\r\u001b[K     |███▋                            | 102 kB 31.7 MB/s eta 0:00:01\r\u001b[K     |████                            | 112 kB 31.7 MB/s eta 0:00:01\r\u001b[K     |████▍                           | 122 kB 31.7 MB/s eta 0:00:01\r\u001b[K     |████▊                           | 133 kB 31.7 MB/s eta 0:00:01\r\u001b[K     |█████                           | 143 kB 31.7 MB/s eta 0:00:01\r\u001b[K     |█████▍                          | 153 kB 31.7 MB/s eta 0:00:01\r\u001b[K     |█████▉                          | 163 kB 31.7 MB/s eta 0:00:01\r\u001b[K     |██████▏                         | 174 kB 31.7 MB/s eta 0:00:01\r\u001b[K     |██████▌                         | 184 kB 31.7 MB/s eta 0:00:01\r\u001b[K     |██████▉                         | 194 kB 31.7 MB/s eta 0:00:01\r\u001b[K     |███████▎                        | 204 kB 31.7 MB/s eta 0:00:01\r\u001b[K     |███████▋                        | 215 kB 31.7 MB/s eta 0:00:01\r\u001b[K     |████████                        | 225 kB 31.7 MB/s eta 0:00:01\r\u001b[K     |████████▎                       | 235 kB 31.7 MB/s eta 0:00:01\r\u001b[K     |████████▊                       | 245 kB 31.7 MB/s eta 0:00:01\r\u001b[K     |█████████                       | 256 kB 31.7 MB/s eta 0:00:01\r\u001b[K     |█████████▍                      | 266 kB 31.7 MB/s eta 0:00:01\r\u001b[K     |█████████▉                      | 276 kB 31.7 MB/s eta 0:00:01\r\u001b[K     |██████████▏                     | 286 kB 31.7 MB/s eta 0:00:01\r\u001b[K     |██████████▌                     | 296 kB 31.7 MB/s eta 0:00:01\r\u001b[K     |██████████▉                     | 307 kB 31.7 MB/s eta 0:00:01\r\u001b[K     |███████████▎                    | 317 kB 31.7 MB/s eta 0:00:01\r\u001b[K     |███████████▋                    | 327 kB 31.7 MB/s eta 0:00:01\r\u001b[K     |████████████                    | 337 kB 31.7 MB/s eta 0:00:01\r\u001b[K     |████████████▎                   | 348 kB 31.7 MB/s eta 0:00:01\r\u001b[K     |████████████▊                   | 358 kB 31.7 MB/s eta 0:00:01\r\u001b[K     |█████████████                   | 368 kB 31.7 MB/s eta 0:00:01\r\u001b[K     |█████████████▍                  | 378 kB 31.7 MB/s eta 0:00:01\r\u001b[K     |█████████████▊                  | 389 kB 31.7 MB/s eta 0:00:01\r\u001b[K     |██████████████▏                 | 399 kB 31.7 MB/s eta 0:00:01\r\u001b[K     |██████████████▌                 | 409 kB 31.7 MB/s eta 0:00:01\r\u001b[K     |██████████████▉                 | 419 kB 31.7 MB/s eta 0:00:01\r\u001b[K     |███████████████▏                | 430 kB 31.7 MB/s eta 0:00:01\r\u001b[K     |███████████████▋                | 440 kB 31.7 MB/s eta 0:00:01\r\u001b[K     |████████████████                | 450 kB 31.7 MB/s eta 0:00:01\r\u001b[K     |████████████████▎               | 460 kB 31.7 MB/s eta 0:00:01\r\u001b[K     |████████████████▋               | 471 kB 31.7 MB/s eta 0:00:01\r\u001b[K     |█████████████████               | 481 kB 31.7 MB/s eta 0:00:01\r\u001b[K     |█████████████████▍              | 491 kB 31.7 MB/s eta 0:00:01\r\u001b[K     |█████████████████▊              | 501 kB 31.7 MB/s eta 0:00:01\r\u001b[K     |██████████████████▏             | 512 kB 31.7 MB/s eta 0:00:01\r\u001b[K     |██████████████████▌             | 522 kB 31.7 MB/s eta 0:00:01\r\u001b[K     |██████████████████▉             | 532 kB 31.7 MB/s eta 0:00:01\r\u001b[K     |███████████████████▏            | 542 kB 31.7 MB/s eta 0:00:01\r\u001b[K     |███████████████████▋            | 552 kB 31.7 MB/s eta 0:00:01\r\u001b[K     |████████████████████            | 563 kB 31.7 MB/s eta 0:00:01\r\u001b[K     |████████████████████▎           | 573 kB 31.7 MB/s eta 0:00:01\r\u001b[K     |████████████████████▋           | 583 kB 31.7 MB/s eta 0:00:01\r\u001b[K     |█████████████████████           | 593 kB 31.7 MB/s eta 0:00:01\r\u001b[K     |█████████████████████▍          | 604 kB 31.7 MB/s eta 0:00:01\r\u001b[K     |█████████████████████▊          | 614 kB 31.7 MB/s eta 0:00:01\r\u001b[K     |██████████████████████          | 624 kB 31.7 MB/s eta 0:00:01\r\u001b[K     |██████████████████████▌         | 634 kB 31.7 MB/s eta 0:00:01\r\u001b[K     |██████████████████████▉         | 645 kB 31.7 MB/s eta 0:00:01\r\u001b[K     |███████████████████████▏        | 655 kB 31.7 MB/s eta 0:00:01\r\u001b[K     |███████████████████████▌        | 665 kB 31.7 MB/s eta 0:00:01\r\u001b[K     |████████████████████████        | 675 kB 31.7 MB/s eta 0:00:01\r\u001b[K     |████████████████████████▎       | 686 kB 31.7 MB/s eta 0:00:01\r\u001b[K     |████████████████████████▋       | 696 kB 31.7 MB/s eta 0:00:01\r\u001b[K     |█████████████████████████       | 706 kB 31.7 MB/s eta 0:00:01\r\u001b[K     |█████████████████████████▍      | 716 kB 31.7 MB/s eta 0:00:01\r\u001b[K     |█████████████████████████▊      | 727 kB 31.7 MB/s eta 0:00:01\r\u001b[K     |██████████████████████████      | 737 kB 31.7 MB/s eta 0:00:01\r\u001b[K     |██████████████████████████▍     | 747 kB 31.7 MB/s eta 0:00:01\r\u001b[K     |██████████████████████████▉     | 757 kB 31.7 MB/s eta 0:00:01\r\u001b[K     |███████████████████████████▏    | 768 kB 31.7 MB/s eta 0:00:01\r\u001b[K     |███████████████████████████▌    | 778 kB 31.7 MB/s eta 0:00:01\r\u001b[K     |████████████████████████████    | 788 kB 31.7 MB/s eta 0:00:01\r\u001b[K     |████████████████████████████▎   | 798 kB 31.7 MB/s eta 0:00:01\r\u001b[K     |████████████████████████████▋   | 808 kB 31.7 MB/s eta 0:00:01\r\u001b[K     |█████████████████████████████   | 819 kB 31.7 MB/s eta 0:00:01\r\u001b[K     |█████████████████████████████▍  | 829 kB 31.7 MB/s eta 0:00:01\r\u001b[K     |█████████████████████████████▊  | 839 kB 31.7 MB/s eta 0:00:01\r\u001b[K     |██████████████████████████████  | 849 kB 31.7 MB/s eta 0:00:01\r\u001b[K     |██████████████████████████████▍ | 860 kB 31.7 MB/s eta 0:00:01\r\u001b[K     |██████████████████████████████▉ | 870 kB 31.7 MB/s eta 0:00:01\r\u001b[K     |███████████████████████████████▏| 880 kB 31.7 MB/s eta 0:00:01\r\u001b[K     |███████████████████████████████▌| 890 kB 31.7 MB/s eta 0:00:01\r\u001b[K     |███████████████████████████████▉| 901 kB 31.7 MB/s eta 0:00:01\r\u001b[K     |████████████████████████████████| 904 kB 31.7 MB/s \n",
            "\u001b[?25hRequirement already satisfied: urllib3 in /usr/local/lib/python3.7/dist-packages (from selenium) (1.24.3)\n",
            "Installing collected packages: selenium\n",
            "Successfully installed selenium-3.141.0\n"
          ],
          "name": "stdout"
        }
      ]
    },
    {
      "cell_type": "code",
      "metadata": {
        "id": "dPdEkM64H1DR"
      },
      "source": [
        "!apt install chromium-chromedriver\n"
      ],
      "execution_count": null,
      "outputs": []
    },
    {
      "cell_type": "code",
      "metadata": {
        "colab": {
          "base_uri": "https://localhost:8080/"
        },
        "id": "EMPMnhINDfTn",
        "outputId": "23755f18-75d9-4582-ec48-e5ad31c03b42"
      },
      "source": [
        "pip install beautifulSoup4"
      ],
      "execution_count": null,
      "outputs": [
        {
          "output_type": "stream",
          "text": [
            "Requirement already satisfied: beautifulSoup4 in /usr/local/lib/python3.7/dist-packages (4.6.3)\n"
          ],
          "name": "stdout"
        }
      ]
    },
    {
      "cell_type": "code",
      "metadata": {
        "id": "gJzVE5nUDGDX"
      },
      "source": [
        "\n",
        "from bs4 import BeautifulSoup\n",
        "\n",
        "import pandas as pd"
      ],
      "execution_count": null,
      "outputs": []
    },
    {
      "cell_type": "code",
      "metadata": {
        "colab": {
          "base_uri": "https://localhost:8080/"
        },
        "id": "ZkQI4CUaJAuW",
        "outputId": "185d3d40-ec41-44cc-974d-74b812042084"
      },
      "source": [
        "from selenium import webdriver\n",
        "chrome_options = webdriver.ChromeOptions()\n",
        "chrome_options.add_argument('--headless')\n",
        "chrome_options.add_argument('--no-sandbox')\n",
        "chrome_options.add_argument('--disable-dev-shm-usage')\n",
        "wd = webdriver.Chrome('chromedriver',chrome_options=chrome_options)\n",
        "driver =webdriver.Chrome('chromedriver',chrome_options=chrome_options)"
      ],
      "execution_count": null,
      "outputs": [
        {
          "output_type": "stream",
          "text": [
            "/usr/local/lib/python3.7/dist-packages/ipykernel_launcher.py:6: DeprecationWarning: use options instead of chrome_options\n",
            "  \n",
            "/usr/local/lib/python3.7/dist-packages/ipykernel_launcher.py:7: DeprecationWarning: use options instead of chrome_options\n",
            "  import sys\n"
          ],
          "name": "stderr"
        }
      ]
    },
    {
      "cell_type": "code",
      "metadata": {
        "id": "Cmc8TO-pUn60"
      },
      "source": [
        "driver.get(\"https://www.amazon.in/s?k=mobile+phone&ref=nb_sb_noss_2\")\n",
        "content=driver.page_source\n",
        "soup=BeautifulSoup(content ,'html.parser')\n"
      ],
      "execution_count": null,
      "outputs": []
    },
    {
      "cell_type": "code",
      "metadata": {
        "id": "C_BvstNeWW1D"
      },
      "source": [
        "m=soup.find_all('span' ,class_=\"a-size-medium a-color-base a-text-normal\")\n",
        "p=soup.find_all('span' ,class_=\"a-price-whole\")\n",
        "r=soup.find_all('span' ,class_=\"a-icon-alt\")"
      ],
      "execution_count": null,
      "outputs": []
    },
    {
      "cell_type": "code",
      "metadata": {
        "id": "75zNEPMBCHnf"
      },
      "source": [
        "disc=[]\n",
        "price=[]\n",
        "rating=[]\n",
        "\n",
        "for i in m:\n",
        "  disc.append(i.text)\n",
        "for i in p:\n",
        "  price.append(i.text)\n",
        "for i in r:\n",
        "  rating.append(i.text)\n"
      ],
      "execution_count": null,
      "outputs": []
    },
    {
      "cell_type": "code",
      "metadata": {
        "id": "yuaUHMEtJXKD"
      },
      "source": [
        "df=pd.DataFrame({\"Product Discription\" : disc , \"Price\" : price , \"Ratings\" : rating})\n",
        "df.head()"
      ],
      "execution_count": null,
      "outputs": []
    },
    {
      "cell_type": "code",
      "metadata": {
        "id": "YJZIIucXmUXa"
      },
      "source": [
        "df.to_csv(\"final.csv\" , index=False  ,encoding=\"utf-8\")"
      ],
      "execution_count": null,
      "outputs": []
    },
    {
      "cell_type": "code",
      "metadata": {
        "id": "K8SAvFNzwKlm"
      },
      "source": [
        ""
      ],
      "execution_count": null,
      "outputs": []
    }
  ]
}